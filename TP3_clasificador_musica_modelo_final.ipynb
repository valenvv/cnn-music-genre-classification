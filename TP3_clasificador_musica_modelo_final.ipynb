{
  "cells": [
    {
      "cell_type": "markdown",
      "metadata": {
        "id": "l1iLx2DRitxx"
      },
      "source": [
        "Universidad Torcuato Di Tella\n",
        "\n",
        "Licenciatura en Tecnología Digital\\\n",
        "**Tecnología Digital VI: Inteligencia Artificial**\n",
        "\n",
        "Integrantes: Isabel Núñez, Camilo Suárez y Valentina Vitetta\n"
      ]
    },
    {
      "cell_type": "code",
      "execution_count": null,
      "metadata": {
        "id": "ZSdBL2673KUX"
      },
      "outputs": [],
      "source": [
        "import gc\n",
        "import os\n",
        "import numpy as np\n",
        "import torch\n",
        "import torch.nn as nn\n",
        "import torchaudio\n",
        "import torchaudio.transforms as tt\n",
        "from google.colab import drive\n",
        "from torch.utils.data import DataLoader, Dataset, random_split"
      ]
    },
    {
      "cell_type": "markdown",
      "metadata": {
        "id": "lAR3tiGci2-e"
      },
      "source": [
        "\n",
        "# TP3: Encodeador de música"
      ]
    },
    {
      "cell_type": "markdown",
      "metadata": {
        "id": "oU5G8mTE-5zM"
      },
      "source": [
        "## Conectamos la notebook a gdrive y seteamos data_dir con el path a los archivos.\n",
        "\n",
        "\n",
        "\n"
      ]
    },
    {
      "cell_type": "markdown",
      "metadata": {
        "id": "BTLQpzk2e85f"
      },
      "source": [
        "Modificar data_dir con el path adecuado que lleve a la carpeta genres"
      ]
    },
    {
      "cell_type": "code",
      "execution_count": null,
      "metadata": {
        "id": "q5AUydgIxfwi"
      },
      "outputs": [],
      "source": [
        "drive.mount('/content/drive')\n",
        "data_dir='//content/drive/MyDrive/tp3tdvi/genres_5sec/'\n",
        "list_files=os.listdir(data_dir)\n",
        "classes=[]\n",
        "for file in list_files:\n",
        "  name='{}/{}'.format(data_dir,file)\n",
        "  if os.path.isdir(name):\n",
        "    classes.append(file)"
      ]
    },
    {
      "cell_type": "markdown",
      "metadata": {
        "id": "zFH8nbgxfUTZ"
      },
      "source": [
        "## Creamos una clase para manejar los audios"
      ]
    },
    {
      "cell_type": "code",
      "execution_count": null,
      "metadata": {
        "id": "GJxZV04XZtnP"
      },
      "outputs": [],
      "source": [
        "samplerate=22050\n",
        "def parse_genres(fname):\n",
        "    parts = fname.split('/')[-1].split('.')[0]\n",
        "    return parts\n",
        "\n",
        "class MusicDataset(Dataset):\n",
        "    def __init__(self, root):\n",
        "        super().__init__()\n",
        "        self.root = root\n",
        "        self.files =[]\n",
        "        for c in classes:\n",
        "          self.files = self.files + [fname for fname in os.listdir(os.path.join(root,c)) if fname.endswith('.wav')]\n",
        "        self.classes = list(set(parse_genres(fname) for fname in self.files))\n",
        "\n",
        "    def __len__(self):\n",
        "        return len(self.files)\n",
        "\n",
        "    def __getitem__(self, i):\n",
        "        fname = self.files[i]\n",
        "        genre = parse_genres(fname)\n",
        "        fpath = os.path.join(self.root,genre, fname)\n",
        "        class_idx = self.classes.index(genre)\n",
        "        audio = torchaudio.load(fpath)[0]\n",
        "\n",
        "        return audio, class_idx\n",
        "\n",
        "dataset = MusicDataset(data_dir)"
      ]
    },
    {
      "cell_type": "markdown",
      "metadata": {
        "id": "PKXtKn7kgId7"
      },
      "source": [
        "## Dividimos el conjunto de datos en entrenamiento, validación y test"
      ]
    },
    {
      "cell_type": "code",
      "execution_count": null,
      "metadata": {
        "id": "-dr5Qhgk5sjL"
      },
      "outputs": [],
      "source": [
        "random_seed = 42 # Semilla para reproducibilidad\n",
        "torch.manual_seed(random_seed)\n",
        "val_size = 100\n",
        "test_size = 100\n",
        "train_size = len(dataset) - val_size - test_size\n",
        "\n",
        "train_ds, val_ds, test_ds = random_split(dataset, [train_size, val_size, test_size])\n",
        "len(train_ds),len(val_ds),len(test_ds)"
      ]
    },
    {
      "cell_type": "markdown",
      "metadata": {
        "id": "7sDPIuQAga7B"
      },
      "source": [
        "## Creamos los DataLoaders"
      ]
    },
    {
      "cell_type": "code",
      "execution_count": null,
      "metadata": {
        "id": "wBHjbBoo5sG1"
      },
      "outputs": [],
      "source": [
        "batch_size = 20\n",
        "num_workers = 2\n",
        "\n",
        "train_dl = DataLoader(train_ds, batch_size, shuffle=True, num_workers=num_workers, pin_memory=True)\n",
        "valid_dl = DataLoader(val_ds, batch_size*2, num_workers=num_workers, pin_memory=True)\n",
        "test_dl = DataLoader(test_ds, 1, shuffle=True, num_workers=num_workers, pin_memory=True)"
      ]
    },
    {
      "cell_type": "markdown",
      "metadata": {
        "id": "yXnHDpoYttX8"
      },
      "source": [
        "## Creamos el modelo"
      ]
    },
    {
      "cell_type": "code",
      "execution_count": null,
      "metadata": {
        "id": "6XrA98-TDO3r"
      },
      "outputs": [],
      "source": [
        "#Función de activación utilizada que no está en pytorch\n",
        "class ShiftedReLU(nn.Module):\n",
        "    def __init__(self, shift=0.3):\n",
        "        super(ShiftedReLU, self).__init__()\n",
        "        self.shift = shift\n",
        "\n",
        "    def forward(self, x):\n",
        "        return torch.relu(x + self.shift) - self.shift\n",
        "\n",
        "\n",
        "model = nn.Sequential( # dropout0.1cnn-0.2fc\n",
        "    nn.Conv2d(1, 32, kernel_size=3, stride=1, padding=1),  # Capa convolución 1\n",
        "    nn.ELU(),\n",
        "    nn.MaxPool2d(kernel_size=2, stride=2),                 # Reducir dimensión\n",
        "    nn.Dropout(0.1),\n",
        "\n",
        "    nn.Conv2d(32, 64, kernel_size=3, stride=1, padding=1), # Capa convolución 2\n",
        "    ShiftedReLU(),\n",
        "    nn.MaxPool2d(kernel_size=2, stride=2),                 # Otra reducción\n",
        "    nn.Dropout(0.1),\n",
        "\n",
        "    nn.Conv2d(64, 128, kernel_size=3, stride=1, padding=1),# Capa convolución 3\n",
        "    nn.ELU(),\n",
        "    nn.MaxPool2d(kernel_size=2, stride=2),                 # Última reducción\n",
        "    nn.Dropout(0.1),\n",
        "\n",
        "    nn.Flatten(),                                          # Flatten para las capas fully connected\n",
        "\n",
        "    nn.Linear(128 * (201 // 8) * (552 // 8), 256),         # Capa fully connected 1\n",
        "    ShiftedReLU(),\n",
        "    nn.Dropout(0.2),\n",
        "    nn.Linear(256, 256),                                   # Capa fully connected 2\n",
        "    nn.ELU(),\n",
        "    nn.Dropout(0.2),\n",
        "    nn.Linear(256, 256),                                   # Capa fully connected 3\n",
        "    ShiftedReLU(),\n",
        "    nn.Dropout(0.2),\n",
        "    nn.Linear(256, 128),                                  # Capa fully connected 4\n",
        "    nn.ELU(),\n",
        "    nn.Dropout(0.2),\n",
        "\n",
        "    nn.Linear(128, 10),                                    # Capa de salida\n",
        ")"
      ]
    },
    {
      "cell_type": "markdown",
      "metadata": {
        "id": "j6l6uFsiiUey"
      },
      "source": [
        "## Configuramos el dispositivo en el que se entrenará el modelo"
      ]
    },
    {
      "cell_type": "code",
      "execution_count": null,
      "metadata": {
        "id": "Ryss1Hhm3KUf"
      },
      "outputs": [],
      "source": [
        "device = torch.device('cuda:0' if torch.cuda.is_available() else 'cpu')\n",
        "\n",
        "model.to(device)\n",
        "print(model)"
      ]
    },
    {
      "cell_type": "markdown",
      "metadata": {
        "id": "DBhUoGMgiryi"
      },
      "source": [
        "## Seteamos algunos hiperparámetros y comenzamos a entrenar"
      ]
    },
    {
      "cell_type": "code",
      "execution_count": null,
      "metadata": {
        "colab": {
          "background_save": true
        },
        "id": "f6cJrYPk8V8J"
      },
      "outputs": [],
      "source": [
        "# Hiperparámetros generales.\n",
        "learning_rate = 0.0005\n",
        "num_epochs = 100\n",
        "\n",
        "loss_function = nn.CrossEntropyLoss()\n",
        "optimizer = torch.optim.Adam(model.parameters(), lr=learning_rate)\n",
        "\n",
        "best_val_accuracy = 0.0\n",
        "\n",
        "torch.cuda.empty_cache()\n",
        "gc.collect() #importante para ir liberando memoria ram\n",
        "\n",
        "# Early stopping\n",
        "patience = 20  # Número de épocas sin mejora para dejar de entrenar\n",
        "epochs_without_improvement = 0\n",
        "\n",
        "for epoch in range(num_epochs):\n",
        "    losses = []\n",
        "\n",
        "    # Train\n",
        "    model.train()\n",
        "    for wav, genre_index in train_dl:\n",
        "        optimizer.zero_grad()  # Clear gradients\n",
        "\n",
        "        wav=wav.to(device)\n",
        "        genre_index =torch.as_tensor(genre_index).to(device)\n",
        "        specgram = tt.Spectrogram().to(device)\n",
        "        specgram_wav = specgram(wav)  # Calcula el espectrograma de `wav`\n",
        "\n",
        "        # Forward\n",
        "        out = model(specgram_wav)\n",
        "\n",
        "        loss = loss_function(out.squeeze(), genre_index)\n",
        "\n",
        "        # Backward\n",
        "        optimizer.zero_grad()\n",
        "        loss.backward()\n",
        "        optimizer.step()\n",
        "        losses.append(loss.item())\n",
        "\n",
        "        del wav #importante para ir liberando memoria ram\n",
        "        del genre_index #importante para ir liberando memoria ram\n",
        "        del specgram #importante para ir liberando memoria ram\n",
        "        del specgram_wav #importante para ir liberando memoria ram\n",
        "        del loss #importante para ir liberando memoria ram\n",
        "        del out  #importante para ir liberando memoria ram\n",
        "        torch.cuda.empty_cache()  #importante para ir liberando memoria ram\n",
        "        gc.collect() #importante para ir liberando memoria ram\n",
        "\n",
        "    train_loss = np.mean(losses)\n",
        "\n",
        "    print('Epoch: [%d/%d], Train loss: %.4f' % (epoch+1, num_epochs, train_loss))\n",
        "\n",
        "\n",
        "    # Validation\n",
        "    model.eval()\n",
        "    y_true = []\n",
        "    y_pred = []\n",
        "    losses = []\n",
        "    correct = 0\n",
        "    for wav, genre_index in valid_dl:\n",
        "        wav = wav.to(device)\n",
        "        genre_index = genre_index.to(device)\n",
        "\n",
        "        specgram = tt.Spectrogram().to(device)\n",
        "        specgram_wav = specgram(wav)\n",
        "\n",
        "        out = model(specgram_wav)\n",
        "\n",
        "        loss = loss_function(out.squeeze(), genre_index)\n",
        "\n",
        "        losses.append(loss.item())\n",
        "\n",
        "        pred = out.argmax(dim=-1).flatten()\n",
        "\n",
        "        # append labels and predictions\n",
        "        correct += pred.eq(genre_index).sum().item()\n",
        "        y_true.extend(genre_index)\n",
        "        y_pred.extend(pred)\n",
        "\n",
        "        del wav #importante para ir liberando memoria ram\n",
        "        del genre_index #importante para ir liberando memoria ram\n",
        "        del specgram #importante para ir liberando memoria ram\n",
        "        del specgram_wav #importante para ir liberando memoria ram\n",
        "        del loss #importante para ir liberando memoria ram\n",
        "        del out  #importante para ir liberando memoria ram\n",
        "        torch.cuda.empty_cache()  #importante para ir liberando memoria ram\n",
        "        gc.collect() #importante para ir liberando memoria ram\n",
        "\n",
        "    accuracy = correct / len(valid_dl.dataset)\n",
        "    valid_loss = np.mean(losses)\n",
        "    print('Epoch: [%d/%d], Valid loss: %.4f, Valid accuracy: %.4f' % (epoch+1, num_epochs, valid_loss, accuracy))\n",
        "\n",
        "    # Guardamos el modelo\n",
        "    if accuracy > best_val_accuracy:\n",
        "        print(f'Guardando el modelo en la epoch {epoch + 1}')\n",
        "        torch.save(model.state_dict(), 'best_model.ckpt')\n",
        "        best_val_accuracy = accuracy\n",
        "        epochs_without_improvement = 0\n",
        "    else:\n",
        "        epochs_without_improvement += 1\n",
        "\n",
        "    if epochs_without_improvement >= patience: # Early stopping\n",
        "        print(f\"Early stopping en la epoch {epoch+1} debido a que no hubo mejor accuracy en validación por {patience} epochs.\")\n",
        "        break"
      ]
    },
    {
      "cell_type": "markdown",
      "metadata": {
        "id": "uFwYdlWxCN0M"
      },
      "source": [
        "## Evaluamos el modelo con el conjunto de test"
      ]
    },
    {
      "cell_type": "code",
      "execution_count": null,
      "metadata": {
        "id": "7Pqtx-D0zAwa"
      },
      "outputs": [],
      "source": [
        "# Load the best model\n",
        "S = torch.load('best_model.ckpt')\n",
        "model.load_state_dict(S)\n",
        "print('modelo cargado!')\n",
        "\n",
        "# Run evaluation\n",
        "model.eval()\n",
        "y_true = []\n",
        "y_pred = []\n",
        "correct = 0\n",
        "with torch.no_grad():\n",
        "    for wav, genre_index in test_dl:\n",
        "        wav = wav.to(device)\n",
        "        genre_index = genre_index.to(device)\n",
        "\n",
        "        specgram = tt.Spectrogram().to(device)\n",
        "        specgram_wav = specgram(wav)\n",
        "\n",
        "        out = model(specgram_wav)\n",
        "\n",
        "        pred = out.argmax(dim=-1).flatten()\n",
        "\n",
        "        # append labels and predictions\n",
        "        correct += pred.eq(genre_index).sum().item()\n",
        "        y_true.extend(genre_index)\n",
        "        y_pred.extend(pred)\n",
        "\n",
        "accuracy = correct / len(test_dl.dataset)\n",
        "print(f'Accuracy en testing: {accuracy}')"
      ]
    }
  ],
  "metadata": {
    "accelerator": "GPU",
    "colab": {
      "gpuType": "T4",
      "provenance": []
    },
    "kernelspec": {
      "display_name": "Python 3",
      "name": "python3"
    },
    "language_info": {
      "codemirror_mode": {
        "name": "ipython",
        "version": 3
      },
      "file_extension": ".py",
      "mimetype": "text/x-python",
      "name": "python",
      "nbconvert_exporter": "python",
      "pygments_lexer": "ipython3",
      "version": "3.7.6"
    }
  },
  "nbformat": 4,
  "nbformat_minor": 0
}